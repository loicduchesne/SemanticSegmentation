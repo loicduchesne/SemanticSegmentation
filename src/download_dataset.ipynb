{
 "cells": [
  {
   "metadata": {},
   "cell_type": "markdown",
   "source": [
    "## Download Cityscapes dataset\n",
    "\n",
    "This notebook only needs to be ran once, in order to download the required dataset for training."
   ],
   "id": "57b66b209cfa8170"
  },
  {
   "metadata": {},
   "cell_type": "code",
   "execution_count": null,
   "source": [
    "from cityscapesscripts.download import downloader\n",
    "\n",
    "session = downloader.login()\n",
    "downloader.list_available_packages(session=session)"
   ],
   "id": "2c2f8fdc23e36c22",
   "outputs": []
  },
  {
   "metadata": {},
   "cell_type": "code",
   "execution_count": null,
   "source": [
    "packages = ['gtFine_trainvaltest.zip', 'leftImg8bit_trainvaltest.zip']\n",
    "downloader.download_packages(session=session, package_names=packages, destination_path=\"data\")"
   ],
   "id": "25c4f88e544026bf",
   "outputs": []
  }
 ],
 "metadata": {
  "kernelspec": {
   "display_name": "Python 3",
   "language": "python",
   "name": "python3"
  },
  "language_info": {
   "codemirror_mode": {
    "name": "ipython",
    "version": 2
   },
   "file_extension": ".py",
   "mimetype": "text/x-python",
   "name": "python",
   "nbconvert_exporter": "python",
   "pygments_lexer": "ipython2",
   "version": "2.7.6"
  }
 },
 "nbformat": 4,
 "nbformat_minor": 5
}
