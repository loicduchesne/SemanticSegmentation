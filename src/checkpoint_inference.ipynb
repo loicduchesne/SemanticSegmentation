{
 "cells": [
  {
   "cell_type": "markdown",
   "id": "1a7be0d5d05d4eff",
   "metadata": {},
   "source": [
    "# Inference on a model loaded from a checkpoint\n",
    "Use this notebook to evaluate the model after training. This allows you to load the fine-tuned model, without having to retrain the model in its entirety."
   ]
  },
  {
   "cell_type": "markdown",
   "id": "16ffc2eecaea671b",
   "metadata": {},
   "source": [
    "## 1. Validation data preparation"
   ]
  },
  {
   "cell_type": "code",
   "execution_count": 1,
   "id": "1bdf736dab359310",
   "metadata": {},
   "outputs": [],
   "source": [
    "from torch.utils.data import DataLoader\n",
    "\n",
    "import albumentations as A\n",
    "from albumentations.pytorch import ToTensorV2"
   ]
  },
  {
   "cell_type": "code",
   "execution_count": 2,
   "id": "82284dc08a10afbe",
   "metadata": {},
   "outputs": [],
   "source": [
    "val_transform = A.Compose([\n",
    "    A.Resize(768, 1024),\n",
    "    A.Normalize(mean=(0.485, 0.456, 0.406), std=(0.229, 0.224, 0.225), max_pixel_value=255.0),\n",
    "    ToTensorV2(),\n",
    "])"
   ]
  },
  {
   "cell_type": "code",
   "execution_count": 3,
   "id": "6e160c2b8f0a0a1a",
   "metadata": {},
   "outputs": [],
   "source": [
    "from Datasets import Cityscapes"
   ]
  },
  {
   "cell_type": "code",
   "execution_count": 4,
   "id": "5160228227c7f3b",
   "metadata": {},
   "outputs": [],
   "source": [
    "root_dir = 'data'\n",
    "\n",
    "val_dataset = Cityscapes(root=root_dir, split='val', mode='fine', target_type='labelTrainIds',\n",
    "                         transforms=val_transform)"
   ]
  },
  {
   "cell_type": "code",
   "execution_count": 5,
   "id": "29d29a54057626ff",
   "metadata": {},
   "outputs": [],
   "source": [
    "val_dataloader = DataLoader(val_dataset, batch_size=24,\n",
    "                            shuffle=True, num_workers=8, pin_memory=True)"
   ]
  },
  {
   "cell_type": "markdown",
   "id": "e97d242cde2d0328",
   "metadata": {},
   "source": [
    "## 2. Inference preparation"
   ]
  },
  {
   "cell_type": "code",
   "execution_count": 6,
   "id": "829f89710d83b631",
   "metadata": {},
   "outputs": [
    {
     "name": "stderr",
     "output_type": "stream",
     "text": [
      "INFO:matplotlib.font_manager:generated new fontManager\n",
      "/usr/lib/python3/dist-packages/pkg_resources/__init__.py:116: PkgResourcesDeprecationWarning: 1.12.1-git20200711.33e2d80-dfsg1-0.6 is an invalid version and will not be supported in a future release\n",
      "  warnings.warn(\n"
     ]
    },
    {
     "name": "stdout",
     "output_type": "stream",
     "text": [
      "Using device: cuda\n"
     ]
    }
   ],
   "source": [
    "import torch\n",
    "import torch.nn as nn\n",
    "import torchvision\n",
    "\n",
    "from torchmetrics import JaccardIndex\n",
    "\n",
    "# Check for multiple GPUs and set device\n",
    "device = torch.device('cuda' if torch.cuda.is_available() else 'cpu')\n",
    "multi_gpu = torch.cuda.device_count() > 1\n",
    "if multi_gpu:\n",
    "    print(f\"Using {torch.cuda.device_count()} GPUs\")\n",
    "else:\n",
    "    print(f\"Using device: {device}\")"
   ]
  },
  {
   "cell_type": "code",
   "execution_count": 8,
   "id": "98d75bd0cd282239",
   "metadata": {},
   "outputs": [],
   "source": [
    "weights = torchvision.models.segmentation.DeepLabV3_ResNet50_Weights.DEFAULT\n",
    "model = torchvision.models.segmentation.deeplabv3_resnet50(weights=weights)\n",
    "\n",
    "# Model configuration\n",
    "model.classifier[4] = nn.Conv2d(256, 20, kernel_size=1)\n",
    "if model.aux_classifier:\n",
    "    model.aux_classifier[4] = nn.Conv2d(256, 20, kernel_size=1)\n",
    "    \n",
    "# Device configuration\n",
    "model = torch.nn.DataParallel(model)\n",
    "model = model.to(device)\n",
    "\n",
    "# Load checkpoint\n",
    "checkpoint_path = 'deeplabv3resnet50_finetuned_7681024_1.pth'\n",
    "model.load_state_dict(torch.load(checkpoint_path, map_location=device))\n",
    "\n",
    "# Loss metric\n",
    "miou = JaccardIndex(task=\"multiclass\", num_classes=20).to(device)"
   ]
  },
  {
   "cell_type": "markdown",
   "id": "dd0fa0ca7dee39d0",
   "metadata": {},
   "source": [
    "## 3. Evaluation"
   ]
  },
  {
   "cell_type": "code",
   "execution_count": 9,
   "id": "4797f90a04ff6427",
   "metadata": {},
   "outputs": [
    {
     "name": "stdout",
     "output_type": "stream",
     "text": [
      "Validation mIoU: 0.6161433458328247\n"
     ]
    }
   ],
   "source": [
    "model.eval()\n",
    "\n",
    "with torch.no_grad():\n",
    "    for inputs, labels in DataLoader(val_dataset, batch_size=24, shuffle=False, num_workers=8, pin_memory=True):\n",
    "        inputs = inputs.to(device)\n",
    "        labels = labels.to(device).long().squeeze(1)\n",
    "\n",
    "        outputs = model(inputs)['out']\n",
    "        predicted = torch.argmax(outputs, dim=1)\n",
    "\n",
    "        miou.update(predicted, labels)\n",
    "\n",
    "miou_accuracy = miou.compute().item()\n",
    "print(f\"Validation mIoU: {miou_accuracy}\")"
   ]
  }
 ],
 "metadata": {
  "kernelspec": {
   "display_name": "Python 3 (ipykernel)",
   "language": "python",
   "name": "python3"
  },
  "language_info": {
   "codemirror_mode": {
    "name": "ipython",
    "version": 3
   },
   "file_extension": ".py",
   "mimetype": "text/x-python",
   "name": "python",
   "nbconvert_exporter": "python",
   "pygments_lexer": "ipython3",
   "version": "3.10.12"
  }
 },
 "nbformat": 4,
 "nbformat_minor": 5
}
