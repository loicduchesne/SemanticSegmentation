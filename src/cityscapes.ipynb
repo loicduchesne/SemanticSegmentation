{
 "cells": [
  {
   "cell_type": "code",
   "execution_count": 1,
   "id": "initial_id",
   "metadata": {
    "ExecuteTime": {
     "end_time": "2024-05-30T06:58:12.660199Z",
     "start_time": "2024-05-30T06:58:12.656696Z"
    }
   },
   "source": [
    "import numpy as np\n",
    "import torch\n",
    "import torchvision\n",
    "\n",
    "device = torch.device('cuda' if torch.cuda.is_available() else 'cpu')\n",
    "print(f\"Using device: {device}\")"
   ],
   "outputs": []
  },
  {
   "cell_type": "markdown",
   "id": "3b70058fe798f744",
   "metadata": {},
   "source": [
    "## 1. Data preparation\n",
    "This prepares and transform the dataset into appropriate dataloaders."
   ]
  },
  {
   "cell_type": "code",
   "execution_count": 2,
   "id": "4a9403ab4ccd2745",
   "metadata": {
    "ExecuteTime": {
     "end_time": "2024-05-30T06:54:49.070560Z",
     "start_time": "2024-05-30T06:54:47.987105Z"
    }
   },
   "source": [
    "from torch.utils.data import DataLoader\n",
    "\n",
    "import albumentations as A\n",
    "from albumentations.pytorch import ToTensorV2"
   ],
   "outputs": []
  },
  {
   "cell_type": "code",
   "execution_count": 3,
   "id": "837574108ba77f6e",
   "metadata": {
    "ExecuteTime": {
     "end_time": "2024-05-30T06:54:49.074683Z",
     "start_time": "2024-05-30T06:54:49.071673Z"
    }
   },
   "source": [
    "train_transform = A.Compose([\n",
    "        # resize the images to 256, 512, better for CNN\n",
    "        A.Resize(384, 512),\n",
    "        A.HorizontalFlip(),\n",
    "        A.Normalize(mean=(0.485, 0.456, 0.406), std=(0.229, 0.224, 0.225), max_pixel_value=255.0),\n",
    "        ToTensorV2(),\n",
    "    ])\n",
    "\n",
    "val_transform = A.Compose([\n",
    "    # resize the images to 256, 512, better for CNN\n",
    "    A.Resize(384, 512),\n",
    "    A.Normalize(mean=(0.485, 0.456, 0.406), std=(0.229, 0.224, 0.225), max_pixel_value=255.0),\n",
    "    ToTensorV2(),\n",
    "])"
   ],
   "outputs": []
  },
  {
   "cell_type": "code",
   "execution_count": 4,
   "id": "8840a98870e14172",
   "metadata": {
    "ExecuteTime": {
     "end_time": "2024-05-30T06:54:49.662219Z",
     "start_time": "2024-05-30T06:54:49.658636Z"
    }
   },
   "source": [
    "from Datasets import Cityscapes"
   ],
   "outputs": []
  },
  {
   "cell_type": "code",
   "execution_count": 5,
   "id": "75474570bdf82dd0",
   "metadata": {
    "ExecuteTime": {
     "end_time": "2024-05-30T06:54:50.082065Z",
     "start_time": "2024-05-30T06:54:50.058053Z"
    }
   },
   "source": [
    "root_dir = 'data'\n",
    "\n",
    "train_dataset = Cityscapes(root=root_dir, split='train', mode='fine', target_type='labelTrainIds',\n",
    "                           transforms=train_transform)\n",
    "val_dataset = Cityscapes(root=root_dir, split='val', mode='fine', target_type='labelTrainIds',\n",
    "                         transforms=val_transform)"
   ],
   "outputs": []
  },
  {
   "cell_type": "code",
   "execution_count": 6,
   "id": "86535fc78b62c384",
   "metadata": {
    "ExecuteTime": {
     "end_time": "2024-05-30T06:54:53.677618Z",
     "start_time": "2024-05-30T06:54:53.674910Z"
    }
   },
   "source": [
    "train_dataloader = DataLoader(train_dataset, batch_size=3,\n",
    "                              shuffle=True, num_workers=2, pin_memory=True)\n",
    "val_dataloader = DataLoader(val_dataset, batch_size=3,\n",
    "                            shuffle=True, num_workers=2, pin_memory=True)"
   ],
   "outputs": []
  },
  {
   "cell_type": "markdown",
   "id": "7c51d7792b1383cd",
   "metadata": {},
   "source": [
    "## 2. Training"
   ]
  },
  {
   "cell_type": "code",
   "execution_count": 7,
   "id": "7db4cd6593b36b5d",
   "metadata": {
    "ExecuteTime": {
     "end_time": "2024-05-30T07:07:18.752072Z",
     "start_time": "2024-05-30T07:07:18.750518Z"
    }
   },
   "source": [
    "import torch.nn as nn\n",
    "import torch.optim as optim\n",
    "from torchmetrics import JaccardIndex\n",
    "from tqdm import tqdm"
   ],
   "outputs": []
  },
  {
   "cell_type": "code",
   "execution_count": 8,
   "id": "affdfcdf-78ee-4d3c-9869-6cd412452bca",
   "metadata": {
    "ExecuteTime": {
     "end_time": "2024-05-30T06:55:13.432919Z",
     "start_time": "2024-05-30T06:55:01.431160Z"
    }
   },
   "source": [
    "# Model\n",
    "weights = torchvision.models.segmentation.DeepLabV3_ResNet50_Weights.DEFAULT\n",
    "model = torchvision.models.segmentation.deeplabv3_resnet50(weights=weights)\n",
    "\n",
    "model = model.to(device)\n",
    "\n",
    "# Training preparation\n",
    "criterion = nn.CrossEntropyLoss()\n",
    "optimizer = optim.Adam(model.parameters(), lr=0.0001)\n",
    "\n",
    "# Loss metric\n",
    "miou = JaccardIndex(task=\"multiclass\", num_classes=20).to(device)"
   ],
   "outputs": []
  },
  {
   "cell_type": "code",
   "execution_count": 9,
   "id": "1a1991a6-ed07-43d4-afa3-ad0d11fa069c",
   "metadata": {
    "ExecuteTime": {
     "end_time": "2024-05-30T07:09:10.954758Z",
     "start_time": "2024-05-30T07:09:10.950718Z"
    }
   },
   "source": [
    "## Preparing the model\n",
    "# DeepLabV3 ResNet\n",
    "model.classifier[4] = nn.Conv2d(256, 20, kernel_size=1)\n",
    "if model.aux_classifier:\n",
    "    model.aux_classifier[4] = nn.Conv2d(256, 20, kernel_size=1)"
   ],
   "outputs": []
  },
  {
   "cell_type": "code",
   "execution_count": null,
   "id": "965c220291a96641",
   "metadata": {
    "ExecuteTime": {
     "end_time": "2024-05-30T07:12:27.468546Z",
     "start_time": "2024-05-30T07:09:15.248596Z"
    }
   },
   "source": [
    "# Training\n",
    "num_epochs = 20\n",
    "\n",
    "model.to(device)\n",
    "for epoch in range(num_epochs):\n",
    "    model.train()\n",
    "    running_loss = 0.0\n",
    "\n",
    "    train_progress = tqdm(train_dataloader, desc=f'Epoch {epoch+1}/{num_epochs} - Training', unit='batch') # Monitor training progress\n",
    "    for inputs, labels in train_progress:\n",
    "        inputs = inputs.to(device)\n",
    "        labels = labels.to(device).long().squeeze(1)\n",
    "        \n",
    "        optimizer.zero_grad()\n",
    "        outputs = model(inputs)['out']\n",
    "        loss = criterion(outputs, labels)\n",
    "        loss.backward()\n",
    "        optimizer.step()\n",
    "        running_loss += loss.item()\n",
    "\n",
    "        train_progress.set_postfix(loss=running_loss/len(train_progress)) # Monitor training progress\n",
    "\n",
    "    print(f\"Epoch {epoch+1}/{num_epochs}, Loss: {running_loss/len(train_dataloader)}\")\n",
    "\n",
    "    model.eval()\n",
    "    correct = 0\n",
    "    total = 0\n",
    "    miou.reset()\n",
    "\n",
    "    val_progress = tqdm(val_dataloader, desc=f'Epoch {epoch+1}/{num_epochs} - Validation', unit='batch') # Monitor validation progress\n",
    "    with torch.no_grad():\n",
    "        for inputs, labels in val_progress:\n",
    "            inputs = inputs.to(device)\n",
    "            labels = labels.to(device).long().squeeze(1)\n",
    "            \n",
    "            outputs = model(inputs)['out']\n",
    "            predicted = torch.argmax(outputs, dim=1)\n",
    "            \n",
    "            total += labels.numel()           \n",
    "            correct += (predicted == labels).sum().item()\n",
    "\n",
    "            miou.update(predicted, labels)\n",
    "\n",
    "            val_progress.set_postfix(accuracy=100 * correct / total) # Monitor validation progress\n",
    "\n",
    "    val_accuracy = 100 * correct / total\n",
    "    miou_accuracy = miou.compute().item()\n",
    "    print(f\"Validation Accuracy: {val_accuracy}%, MIoU: {miou_accuracy}\")"
   ],
   "outputs": []
  },
  {
   "cell_type": "code",
   "execution_count": 11,
   "id": "ccae019a707352ea",
   "metadata": {},
   "source": [
    "# Save model\n",
    "torch.save(model.state_dict(), 'checkpoints/deeplabv3resnet101_finetuned_512512_0001_1.pth')"
   ],
   "outputs": []
  },
  {
   "cell_type": "markdown",
   "id": "a7f48c327d32231",
   "metadata": {},
   "source": [
    "## 3. Inference and evaluation"
   ]
  },
  {
   "cell_type": "code",
   "execution_count": null,
   "id": "35a985c2-b23c-4ea3-8a9b-28bc688ddbb8",
   "metadata": {},
   "source": [
    "import matplotlib.pyplot as plt"
   ],
   "outputs": []
  },
  {
   "cell_type": "code",
   "execution_count": 16,
   "id": "884bcc68f585fd23",
   "metadata": {},
   "source": [
    "CITYSCAPES_COLOR_MAP = np.array([\n",
    "    [128, 64, 128], [244, 35, 232], [70, 70, 70],\n",
    "    [102, 102, 156], [190, 153, 153], [153, 153, 153],\n",
    "    [250, 170, 30], [220, 220, 0], [107, 142, 35],\n",
    "    [152, 251, 152], [0, 130, 180], [220, 20, 60],\n",
    "    [255, 0, 0], [0, 0, 142], [0, 0, 70],\n",
    "    [0, 60, 100], [0, 80, 100], [0, 0, 230],\n",
    "    [119, 11, 32], [255, 255, 255], [0, 0, 0],\n",
    "    [255, 255, 0], [0, 255, 0], [0, 255, 255],\n",
    "    [255, 0, 255], [192, 192, 192], [128, 0, 0],\n",
    "    [128, 128, 0], [0, 128, 0], [128, 0, 128],\n",
    "    [0, 128, 128], [0, 0, 128], [128, 128, 128],\n",
    "    [192, 0, 0], [192, 192, 0], [0, 192, 0]\n",
    "], dtype=np.uint8)"
   ],
   "outputs": []
  },
  {
   "cell_type": "code",
   "execution_count": 17,
   "id": "cbd049624ce0dc96",
   "metadata": {},
   "source": [
    "def visualize_segmentation(model, dataset, idx):\n",
    "    model.eval()\n",
    "    image, target = dataset[idx]\n",
    "    \n",
    "    with torch.no_grad():\n",
    "        output = model(image.unsqueeze(0).to(device))['out']\n",
    "        prediction = output.argmax(1).squeeze(0).cpu().numpy()\n",
    "\n",
    "    def decode_segmap(segmentation):\n",
    "        return CITYSCAPES_COLOR_MAP[segmentation]\n",
    "\n",
    "    segmentation_map = decode_segmap(prediction)\n",
    "\n",
    "    # Convert the tensor image to a numpy array\n",
    "    image = image.permute(1, 2, 0).cpu().numpy()\n",
    "    image = (image * 255).astype(np.uint8)\n",
    "\n",
    "    plt.figure(figsize=(12, 6))\n",
    "    plt.subplot(1, 2, 1)\n",
    "    plt.imshow(image)\n",
    "    plt.title('Original Image')\n",
    "    plt.axis('off')\n",
    "\n",
    "    plt.subplot(1, 2, 2)\n",
    "    plt.imshow(segmentation_map)\n",
    "    plt.title('Segmentation')\n",
    "    plt.axis('off')\n",
    "\n",
    "    plt.show()"
   ],
   "outputs": []
  },
  {
   "cell_type": "code",
   "execution_count": 18,
   "id": "5439cfb5678197cf",
   "metadata": {},
   "source": [
    "visualize_segmentation(model, val_dataset, idx=400)"
   ],
   "outputs": []
  },
  {
   "metadata": {},
   "cell_type": "code",
   "outputs": [],
   "execution_count": null,
   "source": "",
   "id": "af424e66e1d5ef47"
  }
 ],
 "metadata": {
  "kernelspec": {
   "display_name": "Python 3 (ipykernel)",
   "language": "python",
   "name": "python3"
  },
  "language_info": {
   "codemirror_mode": {
    "name": "ipython",
    "version": 3
   },
   "file_extension": ".py",
   "mimetype": "text/x-python",
   "name": "python",
   "nbconvert_exporter": "python",
   "pygments_lexer": "ipython3",
   "version": "3.10.12"
  }
 },
 "nbformat": 4,
 "nbformat_minor": 5
}
